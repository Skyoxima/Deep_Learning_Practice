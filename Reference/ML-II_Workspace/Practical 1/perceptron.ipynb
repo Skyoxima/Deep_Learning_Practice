{
 "cells": [
  {
   "cell_type": "markdown",
   "metadata": {},
   "source": [
    "<h2 style=\"text-align: center; font-weight: 700;\">Perceptron Neural Network</h2>"
   ]
  },
  {
   "cell_type": "code",
   "execution_count": 106,
   "metadata": {},
   "outputs": [],
   "source": [
    "import numpy as np\n",
    "from prettytable import PrettyTable"
   ]
  },
  {
   "cell_type": "code",
   "execution_count": 107,
   "metadata": {},
   "outputs": [
    {
     "data": {
      "text/html": [
       "<img src=\"Perceptron.png\"/>"
      ],
      "text/plain": [
       "<IPython.core.display.Image object>"
      ]
     },
     "execution_count": 107,
     "metadata": {},
     "output_type": "execute_result"
    }
   ],
   "source": [
    "from IPython.display import Image\n",
    "Image(url=\"Perceptron.png\")"
   ]
  },
  {
   "cell_type": "markdown",
   "metadata": {},
   "source": [
    "<h3>Functions - Step and Perceptron</h3>\n",
    "<h5>The activation function is Binary Step function.</h5>"
   ]
  },
  {
   "cell_type": "code",
   "execution_count": 108,
   "metadata": {},
   "outputs": [],
   "source": [
    "def step_function(Yin):\n",
    "  Y_hat = 0 if Yin < 0 else 1\n",
    "  return Y_hat\n",
    "\n",
    "def perceptron(neuron_input, w, b):\n",
    "  if type(neuron_input) == type([1]) or type(neuron_input) == type((1, 2)):  # if list of list or list of tuples is used, individual list/tuple should be handled differently\n",
    "    Yin = np.dot(neuron_input, w) + b   # layer of input neurons (if list of values passed as neuron)\n",
    "  else:\n",
    "    Yin = neuron_input * w + b     # Singular input neuron\n",
    "  Y_hat = step_function(Yin)\n",
    "  return Y_hat "
   ]
  },
  {
   "cell_type": "markdown",
   "metadata": {},
   "source": [
    "<h3>Logical AND</h3>"
   ]
  },
  {
   "cell_type": "code",
   "execution_count": 109,
   "metadata": {},
   "outputs": [],
   "source": [
    "def AND(All_inputs):\n",
    "  w = [1, 1]  # we won't always have the accurate weights in a perceptron ready\n",
    "  b = -2 # same fact applies for bias\n",
    "  result = []\n",
    "  for row in All_inputs:\n",
    "    result.append(perceptron(row, w, b))\n",
    "  \n",
    "  final_result = [[x[0], x[1], y] for x, y in zip(All_inputs, result)]\n",
    "  return final_result"
   ]
  },
  {
   "cell_type": "markdown",
   "metadata": {},
   "source": [
    "<h3>Logical OR</h3>"
   ]
  },
  {
   "cell_type": "code",
   "execution_count": 110,
   "metadata": {},
   "outputs": [],
   "source": [
    "def OR(All_inputs):\n",
    "  w = [1, 1]\n",
    "  b = -1\n",
    "  result = []\n",
    "  for row in All_inputs:\n",
    "    result.append(perceptron(row, w, b))\n",
    "  \n",
    "  final_result = [[x[0], x[1], y] for x, y in zip(All_inputs, result)]\n",
    "  return final_result"
   ]
  },
  {
   "cell_type": "markdown",
   "metadata": {},
   "source": [
    "<h3>Logical NOT</h3>"
   ]
  },
  {
   "cell_type": "code",
   "execution_count": 111,
   "metadata": {},
   "outputs": [],
   "source": [
    "def NOT(All_inputs):\n",
    "  w = -1\n",
    "  b = 0\n",
    "  result = []\n",
    "  for row in All_inputs:\n",
    "    result.append(perceptron(row, w, b))\n",
    "  \n",
    "  final_result = [[x, y] for x, y in zip(All_inputs, result)]\n",
    "  return final_result"
   ]
  },
  {
   "cell_type": "markdown",
   "metadata": {},
   "source": [
    "<h3>Logical NAND</h3>"
   ]
  },
  {
   "cell_type": "code",
   "execution_count": 112,
   "metadata": {},
   "outputs": [],
   "source": [
    "def NAND(All_inputs):\n",
    "  # negation of AND is NAND\n",
    "  AND_full_result = AND(All_inputs)\n",
    "  AND_result = [i[2] for i in AND_full_result]\n",
    "  NOT_full_result = NOT(AND_result)\n",
    "  \n",
    "  final_result = [[x[0], x[1], y[0], y[1]] for x, y in zip(All_inputs, NOT_full_result)]\n",
    "  return final_result"
   ]
  },
  {
   "cell_type": "markdown",
   "metadata": {},
   "source": [
    "<h3>Logical NOR</h3>"
   ]
  },
  {
   "cell_type": "code",
   "execution_count": 113,
   "metadata": {},
   "outputs": [],
   "source": [
    "def NOR(All_inputs):\n",
    "  # negation of OR is NOR\n",
    "  OR_full_result = OR(All_inputs)\n",
    "  OR_result = [i[2] for i in OR_full_result]\n",
    "  NOT_full_result = NOT(OR_result)\n",
    "  \n",
    "  final_result = [[x[0], x[1], y[0], y[1]] for x, y in zip(All_inputs, NOT_full_result)]\n",
    "  return final_result"
   ]
  },
  {
   "cell_type": "markdown",
   "metadata": {},
   "source": [
    "<h3>Logical Ex-OR</h3>"
   ]
  },
  {
   "cell_type": "code",
   "execution_count": 114,
   "metadata": {},
   "outputs": [],
   "source": [
    "def EX_OR(All_inputs):\n",
    "  X1_col, X2_col = [i[0] for i in All_inputs], [i[1] for i in All_inputs]\n",
    "  X1_bar = [i[1] for i in NOT(X1_col)]\n",
    "  X2_bar = [i[1] for i in NOT(X2_col)]\n",
    "  \n",
    "  X1_bar_X2_data = list(zip(X1_bar, X2_col)) # Making 2D list of tuples for further processing\n",
    "  X1_X2_bar_data = list(zip(X1_col, X2_bar))\n",
    "  \n",
    "  Z1 = [i[2] for i in AND(X1_bar_X2_data)] # Z1 = X1_bar_X2 i.e logical multiplication i.e AND\n",
    "  Z2 = [i[2] for i in AND(X1_X2_bar_data)]\n",
    "\n",
    "  Z = list(zip(Z1, Z2))\n",
    "  Y = OR(Z)\n",
    "  \n",
    "  final_result = [[x[0], x[1], x1_bar, x2_bar, z1, z2, y[2]] for x, x1_bar, x2_bar, z1, z2, y in zip(All_inputs, X1_bar, X2_bar, Z1, Z2, Y)]\n",
    "  return final_result"
   ]
  },
  {
   "cell_type": "markdown",
   "metadata": {},
   "source": [
    "<h3>Results</h3>"
   ]
  },
  {
   "cell_type": "markdown",
   "metadata": {},
   "source": [
    "<h5>Data</h5>"
   ]
  },
  {
   "cell_type": "code",
   "execution_count": 115,
   "metadata": {},
   "outputs": [],
   "source": [
    "two_neurons_test = [[0, 0], [0, 1], [1, 0], [1, 1]]\n",
    "one_neuron_test = [0, 1]"
   ]
  },
  {
   "cell_type": "markdown",
   "metadata": {},
   "source": [
    "<h5>AND</h5>"
   ]
  },
  {
   "cell_type": "code",
   "execution_count": 116,
   "metadata": {},
   "outputs": [
    {
     "name": "stdout",
     "output_type": "stream",
     "text": [
      "+----+----+--------+\n",
      "| X1 | X2 | Output |\n",
      "+----+----+--------+\n",
      "| 0  | 0  |   0    |\n",
      "| 0  | 1  |   0    |\n",
      "| 1  | 0  |   0    |\n",
      "| 1  | 1  |   1    |\n",
      "+----+----+--------+\n"
     ]
    }
   ],
   "source": [
    "result = AND(two_neurons_test)\n",
    "result_table = PrettyTable(['X1', 'X2', 'Output'])\n",
    "result_table.add_rows(result)\n",
    "print(result_table)"
   ]
  },
  {
   "cell_type": "markdown",
   "metadata": {},
   "source": [
    "<h5>OR</h5>"
   ]
  },
  {
   "cell_type": "code",
   "execution_count": 117,
   "metadata": {},
   "outputs": [
    {
     "name": "stdout",
     "output_type": "stream",
     "text": [
      "+----+----+--------+\n",
      "| X1 | X2 | Output |\n",
      "+----+----+--------+\n",
      "| 0  | 0  |   0    |\n",
      "| 0  | 1  |   1    |\n",
      "| 1  | 0  |   1    |\n",
      "| 1  | 1  |   1    |\n",
      "+----+----+--------+\n"
     ]
    }
   ],
   "source": [
    "result = OR(two_neurons_test)\n",
    "result_table = PrettyTable(['X1', 'X2', 'Output'])\n",
    "result_table.add_rows(result)\n",
    "print(result_table)"
   ]
  },
  {
   "cell_type": "markdown",
   "metadata": {},
   "source": [
    "<h5>NOT</h5>"
   ]
  },
  {
   "cell_type": "code",
   "execution_count": 118,
   "metadata": {},
   "outputs": [
    {
     "name": "stdout",
     "output_type": "stream",
     "text": [
      "+---+--------+\n",
      "| X | Output |\n",
      "+---+--------+\n",
      "| 0 |   1    |\n",
      "| 1 |   0    |\n",
      "+---+--------+\n"
     ]
    }
   ],
   "source": [
    "result = NOT(one_neuron_test)\n",
    "result_table = PrettyTable(['X', 'Output'])\n",
    "result_table.add_rows(result)\n",
    "print(result_table)"
   ]
  },
  {
   "cell_type": "markdown",
   "metadata": {},
   "source": [
    "<h5>NAND</h5>"
   ]
  },
  {
   "cell_type": "code",
   "execution_count": 119,
   "metadata": {},
   "outputs": [
    {
     "name": "stdout",
     "output_type": "stream",
     "text": [
      "+----+----+---+--------+\n",
      "| X1 | X2 | Z | Output |\n",
      "+----+----+---+--------+\n",
      "| 0  | 0  | 0 |   1    |\n",
      "| 0  | 1  | 0 |   1    |\n",
      "| 1  | 0  | 0 |   1    |\n",
      "| 1  | 1  | 1 |   0    |\n",
      "+----+----+---+--------+\n"
     ]
    }
   ],
   "source": [
    "result = NAND(two_neurons_test)\n",
    "result_table = PrettyTable(['X1', 'X2', 'Z', 'Output'])\n",
    "result_table.add_rows(result)\n",
    "print(result_table)"
   ]
  },
  {
   "cell_type": "markdown",
   "metadata": {},
   "source": [
    "<h5>NOR</h5>"
   ]
  },
  {
   "cell_type": "code",
   "execution_count": 120,
   "metadata": {},
   "outputs": [
    {
     "name": "stdout",
     "output_type": "stream",
     "text": [
      "+----+----+---+--------+\n",
      "| X1 | X2 | Z | Output |\n",
      "+----+----+---+--------+\n",
      "| 0  | 0  | 0 |   1    |\n",
      "| 0  | 1  | 1 |   0    |\n",
      "| 1  | 0  | 1 |   0    |\n",
      "| 1  | 1  | 1 |   0    |\n",
      "+----+----+---+--------+\n"
     ]
    }
   ],
   "source": [
    "result = NOR(two_neurons_test)\n",
    "result_table = PrettyTable(['X1', 'X2', 'Z', 'Output'])\n",
    "result_table.add_rows(result)\n",
    "print(result_table)"
   ]
  },
  {
   "cell_type": "markdown",
   "metadata": {},
   "source": [
    "<h5>EX-OR</h5>"
   ]
  },
  {
   "cell_type": "code",
   "execution_count": 121,
   "metadata": {},
   "outputs": [
    {
     "name": "stdout",
     "output_type": "stream",
     "text": [
      "+----+----+----+----+-----------+-----------+--------+\n",
      "| X1 | X2 | X̅1 | X̅2 | Z1 = X̅1X2 | Z2 = X1X̅2 | Output |\n",
      "+----+----+----+----+-----------+-----------+--------+\n",
      "| 0  | 0  | 1  | 1  |     0     |     0     |   0    |\n",
      "| 0  | 1  | 1  | 0  |     1     |     0     |   1    |\n",
      "| 1  | 0  | 0  | 1  |     0     |     1     |   1    |\n",
      "| 1  | 1  | 0  | 0  |     0     |     0     |   0    |\n",
      "+----+----+----+----+-----------+-----------+--------+\n"
     ]
    }
   ],
   "source": [
    "result = EX_OR(two_neurons_test)\n",
    "result_table = PrettyTable(['X1', 'X2', 'X̅1', 'X̅2', 'Z1 = X̅1X2', 'Z2 = X1X̅2', 'Output'])\n",
    "result_table.add_rows(result)\n",
    "print(result_table)"
   ]
  }
 ],
 "metadata": {
  "kernelspec": {
   "display_name": "Python 3.10.4 64-bit",
   "language": "python",
   "name": "python3"
  },
  "language_info": {
   "codemirror_mode": {
    "name": "ipython",
    "version": 3
   },
   "file_extension": ".py",
   "mimetype": "text/x-python",
   "name": "python",
   "nbconvert_exporter": "python",
   "pygments_lexer": "ipython3",
   "version": "3.10.4 (tags/v3.10.4:9d38120, Mar 23 2022, 23:13:41) [MSC v.1929 64 bit (AMD64)]"
  },
  "orig_nbformat": 4,
  "vscode": {
   "interpreter": {
    "hash": "78f5b707d86fd9281530b9fa2dbdbe1b33232c3b651a8e052360c651d4996094"
   }
  }
 },
 "nbformat": 4,
 "nbformat_minor": 2
}
