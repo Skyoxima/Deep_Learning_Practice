{
 "cells": [
  {
   "attachments": {},
   "cell_type": "markdown",
   "metadata": {},
   "source": [
    "<h2 style=\"text-align: center; font-weight: 700;\">Perceptron Neural Network on Boolean Logic Gates (w/ Hidden Layers!)</h2>"
   ]
  },
  {
   "cell_type": "code",
   "execution_count": 135,
   "metadata": {},
   "outputs": [],
   "source": [
    "import numpy as np"
   ]
  },
  {
   "cell_type": "code",
   "execution_count": 136,
   "metadata": {},
   "outputs": [],
   "source": [
    "def step_function(yin):\n",
    "  return 1 if yin >= 0 else 0"
   ]
  },
  {
   "cell_type": "code",
   "execution_count": 137,
   "metadata": {},
   "outputs": [],
   "source": [
    "def perceptron(x, w, b):\n",
    "  if type(x) == list or type(x) == tuple:\n",
    "    yin = np.dot(x, w) + b\n",
    "  else:\n",
    "    yin = x * w + b\n",
    "  yhat = step_function(yin)\n",
    "  return yhat"
   ]
  },
  {
   "cell_type": "code",
   "execution_count": 138,
   "metadata": {},
   "outputs": [],
   "source": [
    "x1x2s = [[0, 0], [0, 1], [1, 0], [1, 1]]\n",
    "xs = [0, 1]       # For NOT"
   ]
  },
  {
   "attachments": {},
   "cell_type": "markdown",
   "metadata": {},
   "source": [
    "#### Final Result Printer"
   ]
  },
  {
   "cell_type": "code",
   "execution_count": 139,
   "metadata": {},
   "outputs": [],
   "source": [
    "def result_print(x1x2s, res):\n",
    "  print(\"X1\", \"X2\", \"Y\", sep = \"\\t\")\n",
    "  for x, r in zip(x1x2s, res):\n",
    "    print(x[0], x[1], r, sep = \"\\t\")"
   ]
  },
  {
   "cell_type": "code",
   "execution_count": 140,
   "metadata": {},
   "outputs": [],
   "source": [
    "def result_print_solo_x(xs, res):\n",
    "  print(\"X\", \"Y\", sep = \"\\t\")\n",
    "  for x, r in zip(xs, res):\n",
    "    print(x, r, sep = \"\\t\")"
   ]
  },
  {
   "attachments": {},
   "cell_type": "markdown",
   "metadata": {},
   "source": [
    "#### Logical AND"
   ]
  },
  {
   "cell_type": "code",
   "execution_count": 141,
   "metadata": {},
   "outputs": [],
   "source": [
    "def bool_and(x1x2s):\n",
    "  w = [1, 1]\n",
    "  b = -2\n",
    "  results = []\n",
    "  for x1x2 in x1x2s:\n",
    "    results.append(perceptron(x1x2, w, b))\n",
    "  # result_print(x1x2s, results)\n",
    "  return [results, w, b]"
   ]
  },
  {
   "attachments": {},
   "cell_type": "markdown",
   "metadata": {},
   "source": [
    "#### Logical OR"
   ]
  },
  {
   "cell_type": "code",
   "execution_count": 142,
   "metadata": {},
   "outputs": [],
   "source": [
    "def bool_or(x1x2s):\n",
    "  w = [1, 1]\n",
    "  b = -1\n",
    "  results = []\n",
    "  for x1x2 in x1x2s:\n",
    "    results.append(perceptron(x1x2, w, b))\n",
    "  # result_print(x1x2s, results)\n",
    "  return [results, w, b]"
   ]
  },
  {
   "attachments": {},
   "cell_type": "markdown",
   "metadata": {},
   "source": [
    "#### Logical NOT"
   ]
  },
  {
   "cell_type": "code",
   "execution_count": 143,
   "metadata": {},
   "outputs": [],
   "source": [
    "def bool_not(xs):\n",
    "  w = -1\n",
    "  b = 0\n",
    "  results = []\n",
    "  for x in xs:\n",
    "    results.append(perceptron(x, w, b))\n",
    "  # result_print_solo_x(xs, results)\n",
    "  return [results, w, b]"
   ]
  },
  {
   "attachments": {},
   "cell_type": "markdown",
   "metadata": {},
   "source": [
    "#### Logical NAND w/ Hidden Layer"
   ]
  },
  {
   "cell_type": "code",
   "execution_count": 144,
   "metadata": {},
   "outputs": [],
   "source": [
    "def bool_nand_2(x1x2s):\n",
    "  # The AND Step\n",
    "  pre_results = bool_and(x1x2s)\n",
    "  # The NOT of AND's output\n",
    "  results = bool_not(pre_results[0])\n",
    "  result_print(x1x2s, results[0])\n",
    "  return [results, pre_results]   # previous results"
   ]
  },
  {
   "cell_type": "code",
   "execution_count": 145,
   "metadata": {},
   "outputs": [
    {
     "name": "stdout",
     "output_type": "stream",
     "text": [
      "X1\tX2\tY\n",
      "0\t0\t1\n",
      "0\t1\t1\n",
      "1\t0\t1\n",
      "1\t1\t0\n"
     ]
    },
    {
     "data": {
      "text/plain": [
       "[[[1, 1, 1, 0], -1, 0], [[0, 0, 0, 1], [1, 1], -2]]"
      ]
     },
     "execution_count": 145,
     "metadata": {},
     "output_type": "execute_result"
    }
   ],
   "source": [
    "bool_nand_2(x1x2s)"
   ]
  },
  {
   "attachments": {},
   "cell_type": "markdown",
   "metadata": {},
   "source": [
    "#### Logical NOR w/ Hidden Layer"
   ]
  },
  {
   "cell_type": "code",
   "execution_count": 146,
   "metadata": {},
   "outputs": [],
   "source": [
    "def bool_nor_2(x1x2s):\n",
    "  pre_results = bool_or(x1x2s)\n",
    "  results = bool_not(pre_results[0])\n",
    "  result_print(x1x2s, results[0])\n",
    "  return [results, pre_results]"
   ]
  },
  {
   "cell_type": "code",
   "execution_count": 147,
   "metadata": {},
   "outputs": [
    {
     "name": "stdout",
     "output_type": "stream",
     "text": [
      "X1\tX2\tY\n",
      "0\t0\t1\n",
      "0\t1\t0\n",
      "1\t0\t0\n",
      "1\t1\t0\n"
     ]
    },
    {
     "data": {
      "text/plain": [
       "[[[1, 0, 0, 0], -1, 0], [[0, 1, 1, 1], [1, 1], -1]]"
      ]
     },
     "execution_count": 147,
     "metadata": {},
     "output_type": "execute_result"
    }
   ],
   "source": [
    "bool_nor_2(x1x2s)"
   ]
  },
  {
   "attachments": {},
   "cell_type": "markdown",
   "metadata": {},
   "source": [
    "#### **Logical XOR**\n",
    "###### No direct implementation, hidden layers have to be implemented"
   ]
  },
  {
   "cell_type": "code",
   "execution_count": 148,
   "metadata": {},
   "outputs": [],
   "source": [
    "# z1 = x1-.x2,    - indicates \"bar\"\n",
    "# z2 = x1.x2-\n",
    "# y = z1 + z2\n",
    "\n",
    "def bool_xor(x1x2s):\n",
    "  x1 = [x1x2[0] for x1x2 in x1x2s]      \n",
    "  x2 = [x1x2[1] for x1x2 in x1x2s]\n",
    "  #* Hidden layer 1\n",
    "  x1_ = bool_not(x1)[0]   \n",
    "  x2_ = bool_not(x2)[0]\n",
    "\n",
    "  #* Hidden Layer 2\n",
    "  x1_x2 = bool_and(list(zip(x1_, x2)))[0]\n",
    "  x1x2_ = bool_and(list(zip(x1, x2_)))[0]\n",
    "  \n",
    "  #* Output layer\n",
    "  y = bool_or(list(zip(x1_x2, x1x2_)))\n",
    "  result_print(x1x2s, y[0])\n",
    "  return \"A lot of weights and biases will be returned...\""
   ]
  },
  {
   "cell_type": "code",
   "execution_count": 149,
   "metadata": {},
   "outputs": [
    {
     "name": "stdout",
     "output_type": "stream",
     "text": [
      "X1\tX2\tY\n",
      "0\t0\t0\n",
      "0\t1\t1\n",
      "1\t0\t1\n",
      "1\t1\t0\n"
     ]
    },
    {
     "data": {
      "text/plain": [
       "'A lot of weights and biases will be returned...'"
      ]
     },
     "execution_count": 149,
     "metadata": {},
     "output_type": "execute_result"
    }
   ],
   "source": [
    "bool_xor(x1x2s)"
   ]
  }
 ],
 "metadata": {
  "kernelspec": {
   "display_name": "Python 3",
   "language": "python",
   "name": "python3"
  },
  "language_info": {
   "codemirror_mode": {
    "name": "ipython",
    "version": 3
   },
   "file_extension": ".py",
   "mimetype": "text/x-python",
   "name": "python",
   "nbconvert_exporter": "python",
   "pygments_lexer": "ipython3",
   "version": "3.10.4"
  },
  "orig_nbformat": 4,
  "vscode": {
   "interpreter": {
    "hash": "78f5b707d86fd9281530b9fa2dbdbe1b33232c3b651a8e052360c651d4996094"
   }
  }
 },
 "nbformat": 4,
 "nbformat_minor": 2
}
