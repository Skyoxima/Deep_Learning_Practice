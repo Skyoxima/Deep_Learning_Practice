{
 "cells": [
  {
   "attachments": {},
   "cell_type": "markdown",
   "metadata": {},
   "source": [
    "<h2 style=\"text-align: center; font-weight: 700;\">Perceptron Neural Network on Boolean Logic Gates</h2>"
   ]
  },
  {
   "cell_type": "code",
   "execution_count": 143,
   "metadata": {},
   "outputs": [],
   "source": [
    "import numpy as np"
   ]
  },
  {
   "attachments": {},
   "cell_type": "markdown",
   "metadata": {},
   "source": [
    "#### The inputs"
   ]
  },
  {
   "cell_type": "code",
   "execution_count": 144,
   "metadata": {},
   "outputs": [],
   "source": [
    "x1x2s = [[0, 0], [0, 1], [1, 0], [1, 1]]\n",
    "xs = [0, 1]       # For NOT"
   ]
  },
  {
   "attachments": {},
   "cell_type": "markdown",
   "metadata": {},
   "source": [
    "#### Final Result Printer"
   ]
  },
  {
   "cell_type": "code",
   "execution_count": 145,
   "metadata": {},
   "outputs": [],
   "source": [
    "def result_print(x1x2s, res):\n",
    "  print(\"X1\", \"X2\", \"Y\", sep = \"\\t\")\n",
    "  for x, r in zip(x1x2s, res):\n",
    "    print(x[0], x[1], r, sep = \"\\t\")"
   ]
  },
  {
   "cell_type": "code",
   "execution_count": 146,
   "metadata": {},
   "outputs": [],
   "source": [
    "def result_print_solo_x(xs, res):\n",
    "  print(\"X\", \"Y\", sep = \"\\t\")\n",
    "  for x, r in zip(xs, res):\n",
    "    print(x, r, sep = \"\\t\")"
   ]
  },
  {
   "attachments": {},
   "cell_type": "markdown",
   "metadata": {},
   "source": [
    "#### Required Functions\n",
    "* ##### Activation function -> Step Activation (Binary)\n",
    "* ##### The Perceptron function (Calculates pre-activation Y_in using x, w and b)"
   ]
  },
  {
   "cell_type": "code",
   "execution_count": 147,
   "metadata": {},
   "outputs": [],
   "source": [
    "def step_function(yin):\n",
    "  return 1 if yin >= 0 else 0"
   ]
  },
  {
   "cell_type": "code",
   "execution_count": 148,
   "metadata": {},
   "outputs": [],
   "source": [
    "def perceptron(x, w, b):\n",
    "  if type(x) == list or type(x) == tuple:\n",
    "    yin = np.dot(x, w) + b\n",
    "  else:\n",
    "    yin = x * w + b\n",
    "  yhat = step_function(yin)\n",
    "  return yhat"
   ]
  },
  {
   "attachments": {},
   "cell_type": "markdown",
   "metadata": {},
   "source": [
    "#### Logical AND"
   ]
  },
  {
   "cell_type": "code",
   "execution_count": 149,
   "metadata": {},
   "outputs": [],
   "source": [
    "def bool_and(x1x2s):\n",
    "  w = [1, 1]\n",
    "  b = -2\n",
    "  results = []\n",
    "  for x1x2 in x1x2s:\n",
    "    results.append(perceptron(x1x2, w, b))\n",
    "  result_print(x1x2s, results)\n",
    "  return [results, w, b]"
   ]
  },
  {
   "cell_type": "code",
   "execution_count": 150,
   "metadata": {},
   "outputs": [
    {
     "name": "stdout",
     "output_type": "stream",
     "text": [
      "X1\tX2\tY\n",
      "0\t0\t0\n",
      "0\t1\t0\n",
      "1\t0\t0\n",
      "1\t1\t1\n"
     ]
    },
    {
     "data": {
      "text/plain": [
       "[[0, 0, 0, 1], [1, 1], -2]"
      ]
     },
     "execution_count": 150,
     "metadata": {},
     "output_type": "execute_result"
    }
   ],
   "source": [
    "bool_and(x1x2s)"
   ]
  },
  {
   "attachments": {},
   "cell_type": "markdown",
   "metadata": {},
   "source": [
    "#### Logical OR"
   ]
  },
  {
   "cell_type": "code",
   "execution_count": 151,
   "metadata": {},
   "outputs": [],
   "source": [
    "def bool_or(x1x2s):\n",
    "  w = [1, 1]\n",
    "  b = -1\n",
    "  results = []\n",
    "  for x1x2 in x1x2s:\n",
    "    results.append(perceptron(x1x2, w, b))\n",
    "  result_print(x1x2s, results)\n",
    "  return [results, w, b]"
   ]
  },
  {
   "cell_type": "code",
   "execution_count": 152,
   "metadata": {},
   "outputs": [
    {
     "name": "stdout",
     "output_type": "stream",
     "text": [
      "X1\tX2\tY\n",
      "0\t0\t0\n",
      "0\t1\t1\n",
      "1\t0\t1\n",
      "1\t1\t1\n"
     ]
    },
    {
     "data": {
      "text/plain": [
       "[[0, 1, 1, 1], [1, 1], -1]"
      ]
     },
     "execution_count": 152,
     "metadata": {},
     "output_type": "execute_result"
    }
   ],
   "source": [
    "bool_or(x1x2s)"
   ]
  },
  {
   "attachments": {},
   "cell_type": "markdown",
   "metadata": {},
   "source": [
    "#### Logical NOT"
   ]
  },
  {
   "cell_type": "code",
   "execution_count": 153,
   "metadata": {},
   "outputs": [],
   "source": [
    "def bool_not(xs):\n",
    "  w = -1\n",
    "  b = 0\n",
    "  results = []\n",
    "  for x in xs:\n",
    "    results.append(perceptron(x, w, b))\n",
    "  result_print_solo_x(xs, results)\n",
    "  return [results, w, b]"
   ]
  },
  {
   "cell_type": "code",
   "execution_count": 154,
   "metadata": {},
   "outputs": [
    {
     "name": "stdout",
     "output_type": "stream",
     "text": [
      "X\tY\n",
      "0\t1\n",
      "1\t0\n"
     ]
    },
    {
     "data": {
      "text/plain": [
       "[[1, 0], -1, 0]"
      ]
     },
     "execution_count": 154,
     "metadata": {},
     "output_type": "execute_result"
    }
   ],
   "source": [
    "bool_not(xs)"
   ]
  },
  {
   "attachments": {},
   "cell_type": "markdown",
   "metadata": {},
   "source": [
    "#### Logical NAND"
   ]
  },
  {
   "cell_type": "code",
   "execution_count": 155,
   "metadata": {},
   "outputs": [],
   "source": [
    "def bool_nand(x1x2s):\n",
    "  w = [-1, -1]   #!!\n",
    "  b = 1\n",
    "  results = []\n",
    "  for x1x2 in x1x2s:\n",
    "    results.append(perceptron(x1x2, w, b))\n",
    "  result_print(x1x2s, results)\n",
    "  return [results, w, b]"
   ]
  },
  {
   "cell_type": "code",
   "execution_count": 156,
   "metadata": {},
   "outputs": [
    {
     "name": "stdout",
     "output_type": "stream",
     "text": [
      "X1\tX2\tY\n",
      "0\t0\t1\n",
      "0\t1\t1\n",
      "1\t0\t1\n",
      "1\t1\t0\n"
     ]
    },
    {
     "data": {
      "text/plain": [
       "[[1, 1, 1, 0], [-1, -1], 1]"
      ]
     },
     "execution_count": 156,
     "metadata": {},
     "output_type": "execute_result"
    }
   ],
   "source": [
    "bool_nand(x1x2s)"
   ]
  },
  {
   "cell_type": "markdown",
   "metadata": {},
   "source": [
    "#### Logical NOR"
   ]
  },
  {
   "cell_type": "code",
   "execution_count": 157,
   "metadata": {},
   "outputs": [],
   "source": [
    "def bool_nor(x1x2s):\n",
    "  w = [-1, -1]      #!!\n",
    "  b = 0\n",
    "  results = []\n",
    "  for x1x2 in x1x2s:\n",
    "    results.append(perceptron(x1x2, w, b))\n",
    "  result_print(x1x2s, results)\n",
    "  return [results, w, b]"
   ]
  },
  {
   "cell_type": "code",
   "execution_count": 158,
   "metadata": {},
   "outputs": [
    {
     "name": "stdout",
     "output_type": "stream",
     "text": [
      "X1\tX2\tY\n",
      "0\t0\t1\n",
      "0\t1\t0\n",
      "1\t0\t0\n",
      "1\t1\t0\n"
     ]
    },
    {
     "data": {
      "text/plain": [
       "[[1, 0, 0, 0], [-1, -1], 0]"
      ]
     },
     "execution_count": 158,
     "metadata": {},
     "output_type": "execute_result"
    }
   ],
   "source": [
    "bool_nor(x1x2s)"
   ]
  }
 ],
 "metadata": {
  "kernelspec": {
   "display_name": "Python 3",
   "language": "python",
   "name": "python3"
  },
  "language_info": {
   "codemirror_mode": {
    "name": "ipython",
    "version": 3
   },
   "file_extension": ".py",
   "mimetype": "text/x-python",
   "name": "python",
   "nbconvert_exporter": "python",
   "pygments_lexer": "ipython3",
   "version": "3.10.4"
  },
  "orig_nbformat": 4,
  "vscode": {
   "interpreter": {
    "hash": "78f5b707d86fd9281530b9fa2dbdbe1b33232c3b651a8e052360c651d4996094"
   }
  }
 },
 "nbformat": 4,
 "nbformat_minor": 2
}
